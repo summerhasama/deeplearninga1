{
  "nbformat": 4,
  "nbformat_minor": 0,
  "metadata": {
    "kernelspec": {
      "display_name": "Python 3",
      "language": "python",
      "name": "python3"
    },
    "language_info": {
      "codemirror_mode": {
        "name": "ipython",
        "version": 3
      },
      "file_extension": ".py",
      "mimetype": "text/x-python",
      "name": "python",
      "nbconvert_exporter": "python",
      "pygments_lexer": "ipython3",
      "version": "3.6.6"
    },
    "colab": {
      "provenance": [],
      "include_colab_link": true
    }
  },
  "cells": [
    {
      "cell_type": "markdown",
      "metadata": {
        "id": "view-in-github",
        "colab_type": "text"
      },
      "source": [
        "<a href=\"https://colab.research.google.com/github/summerhasama/deeplearninga1/blob/main/SH_AIT_09_Author_classification_assessment.ipynb\" target=\"_parent\"><img src=\"https://colab.research.google.com/assets/colab-badge.svg\" alt=\"Open In Colab\"/></a>"
      ]
    },
    {
      "cell_type": "markdown",
      "metadata": {
        "id": "_jiGtJu6u9ml"
      },
      "source": [
        "# Copyright\n",
        "\n",
        "<PRE>\n",
        "Copyright (c) 2023 Bálint Gyires-Tóth - All Rights Reserved\n",
        "You may use and modify this code for research and development purpuses.\n",
        "Use this code for educational purposes (self-paced or instructor led) without the permission of the author is prohibited.\n",
        "</PRE>"
      ]
    },
    {
      "cell_type": "markdown",
      "metadata": {
        "id": "oXyFC44jV-PP"
      },
      "source": [
        "# Author classification\n",
        "The task is to train a 1D CNN or an LSTM that is able to  classify text from two authors. The final model should be able to tell about a text with a given length (e.g. 60 characters) who wrote it. \n",
        "\n",
        "Please write the codes according to the following parts:"
      ]
    },
    {
      "cell_type": "markdown",
      "metadata": {
        "id": "jCnLoeGrHXsp"
      },
      "source": [
        "## Python module imports\n",
        "Import all Python modules that you would need during the Assignment."
      ]
    },
    {
      "cell_type": "code",
      "metadata": {
        "id": "7itbFGt3HXVT"
      },
      "source": [
        "import matplotlib.pyplot as plot\n",
        "import pandas as pd\n",
        "from tensorflow.keras.models import Sequential\n",
        "from tensorflow.keras.layers import Dense, Activation, Dropout, Flatten\n",
        "from tensorflow.keras.layers import LSTM\n",
        "from tensorflow.keras.callbacks import EarlyStopping\n",
        "from tensorflow.keras.optimizers import RMSprop\n",
        "from urllib.request import urlretrieve\n",
        "import numpy as np\n",
        "from sklearn.model_selection import train_test_split\n",
        "import random\n",
        "import sys\n",
        "import re, cgi"
      ],
      "execution_count": 73,
      "outputs": []
    },
    {
      "cell_type": "markdown",
      "metadata": {
        "id": "Hr617tEpHd8R"
      },
      "source": [
        "## Data acquisition\n",
        "Seek a possible dataset, you can use any source, e.g.\n",
        "* http://www.gutenberg.org/\n",
        "* https://www.kaggle.com/datasets\n",
        "* https://paperswithcode.com/datasets\n",
        "* if you would like to learn Hungarian, than e.g. https://mek.oszk.hu/\n",
        "\n",
        "You can download the text by hand (e.g. by copy-pasting some parts into txt files) or with Python. "
      ]
    },
    {
      "cell_type": "code",
      "metadata": {
        "id": "NgkdQxHqHdZB"
      },
      "source": [
        "url_book_1 =\"https://www.gutenberg.org/cache/epub/1342/pg1342.txt\" # Pride and prejudice by Jane Austen\n",
        "urlretrieve(url_book_1, 'book1.txt')\n",
        "ptext = open(\"book1.txt\", encoding='utf-8').read().lower()\n",
        "\n",
        "url_book_2 =\"https://www.gutenberg.org/cache/epub/64317/pg64317.txt\" # Great Gatsby by F Scott Fitzgerald\n",
        "urlretrieve(url_book_2, 'book2.txt')\n",
        "gtext = open(\"book2.txt\", encoding='utf-8').read().lower()"
      ],
      "execution_count": 9,
      "outputs": []
    },
    {
      "cell_type": "markdown",
      "source": [
        "## Data analysis\n",
        "Count the number of characters from both authors and display them on a plot (e.g. Seaborn's countplot)."
      ],
      "metadata": {
        "id": "U9Pmq91t3SRD"
      }
    },
    {
      "cell_type": "code",
      "source": [
        "g_char_count= len(gtext)\n",
        "p_char_count=len(ptext)\n",
        "print('Num chars in the Great Gatsby by F Scott Fitzgerald:',g_char_count)\n",
        "print('Num chars in Pride and Prejudice by Jane Austin:', p_char_count)"
      ],
      "metadata": {
        "id": "uRqGdn4F3Spk",
        "colab": {
          "base_uri": "https://localhost:8080/"
        },
        "outputId": "476438b9-0b3a-4e74-89b3-75849a407c4e"
      },
      "execution_count": 12,
      "outputs": [
        {
          "output_type": "stream",
          "name": "stdout",
          "text": [
            "Num chars in the Great Gatsby by F Scott Fitzgerald: 289901\n",
            "Num chars in Pride and Prejudice by Jane Austin: 748079\n"
          ]
        }
      ]
    },
    {
      "cell_type": "code",
      "source": [
        "plot.bar([\"The Great Gatsby\", \"Pride and Prejudice\"], [g_char_count,p_char_count])"
      ],
      "metadata": {
        "colab": {
          "base_uri": "https://localhost:8080/",
          "height": 447
        },
        "id": "pGlSzRyWJ0BL",
        "outputId": "871f6eca-a2f7-4a1b-98a0-f11025242eda"
      },
      "execution_count": 13,
      "outputs": [
        {
          "output_type": "execute_result",
          "data": {
            "text/plain": [
              "<BarContainer object of 2 artists>"
            ]
          },
          "metadata": {},
          "execution_count": 13
        },
        {
          "output_type": "display_data",
          "data": {
            "text/plain": [
              "<Figure size 640x480 with 1 Axes>"
            ],
            "image/png": "[encoded data removed]"
          },
          "metadata": {}
        }
      ]
    },
    {
      "cell_type": "markdown",
      "metadata": {
        "id": "cHyE_ndGIblJ"
      },
      "source": [
        "## Data loading, labeling and preprocessing\n",
        "Load the data and convert the characters into one-hot encodings. Then load the data into a 3D NumPy array, with a shape of\n",
        "\n",
        "* (batch, sequence_length, alphabet_length)\n",
        "\n",
        "where sequence_length=60, and alphabet_length equals to the number of unique characters in both datasets. The sequences should be cut out from the complete dataset by sliding window. You should add 0 and 1 labels to the sequences, according to the author. \n",
        "\n",
        "Later you may change sequence_length to achieve better results!"
      ]
    },
    {
      "cell_type": "code",
      "metadata": {
        "id": "arooXt0WIb6x"
      },
      "source": [
        "# Universal list of characters\n",
        "chars = sorted(list(set(gtext+ptext)))\n",
        "\n",
        "# character->index and index->character dictionaries for the one-hot encodings\n",
        "char_indices = dict((c, i) for i, c in enumerate(chars))\n",
        "indices_char = dict((i, c) for i, c in enumerate(chars))\n",
        "\n",
        "g_seqs= []\n",
        "p_seqs= []\n",
        "seq_length=60\n",
        "alphabet_length = len(chars)\n",
        "for i in range(0, g_char_count,seq_length):\n",
        "    g_seqs.append(gtext[i:i+seq_length])\n",
        "for i in range(0, p_char_count, seq_length):\n",
        "    p_seqs.append(ptext[i:i+seq_length])"
      ],
      "execution_count": 19,
      "outputs": []
    },
    {
      "cell_type": "code",
      "source": [
        "batch = len(p_seqs+g_seqs)\n",
        "X = np.zeros((batch, seq_length, alphabet_length), dtype =float)\n",
        "y = np.zeros((batch,1), dtype=float)"
      ],
      "metadata": {
        "id": "w9jpKEEfIkGh"
      },
      "execution_count": 75,
      "outputs": []
    },
    {
      "cell_type": "code",
      "source": [
        "# one hot encodings\n",
        "for i, sentence in enumerate(p_seqs):\n",
        "    for t, char in enumerate(sentence): \n",
        "        X[i,t,char_indices[char]] = 1\n",
        "    y[i][0] = 1 # author is F Scott Fitzgerald\n",
        "\n",
        "for i, sentence in enumerate(g_seqs):\n",
        "    for t, char in enumerate(sentence): \n",
        "        X[i+len(p_seqs),t,char_indices[char]] = 1\n",
        "    y[i+len(p_seqs)][0] = 0 # author is Jane Austen"
      ],
      "metadata": {
        "id": "4_b9pj11JHLO"
      },
      "execution_count": 76,
      "outputs": []
    },
    {
      "cell_type": "markdown",
      "metadata": {
        "id": "lL1Mc8ibHnep"
      },
      "source": [
        "## Data splitting\n",
        "Split the data into train, validate and test sets. "
      ]
    },
    {
      "cell_type": "code",
      "metadata": {
        "id": "ELyG9XFUHrkB"
      },
      "source": [
        "X_train, X_test, y_train, y_test = train_test_split(X, y, test_size=0.2)\n",
        "\n",
        "X_train, X_val, y_train, y_val = train_test_split(X_train, y_train, test_size=0.25)"
      ],
      "execution_count": 77,
      "outputs": []
    },
    {
      "cell_type": "markdown",
      "metadata": {
        "id": "hA8U9tr7HrNQ"
      },
      "source": [
        "## Model definition\n",
        "Define a 1D CNN or an LSTM for the task. Compile the model with the correct loss function."
      ]
    },
    {
      "cell_type": "code",
      "metadata": {
        "id": "BT1V1s4kHuUe",
        "colab": {
          "base_uri": "https://localhost:8080/"
        },
        "outputId": "803fe43a-ebf4-42b3-9791-ccc05c765186"
      },
      "source": [
        "model = Sequential()\n",
        "model.add(LSTM(128, input_shape=(seq_length, alphabet_length), dropout=0.2))\n",
        "model.add(Dense(1, activation=\"sigmoid\"))\n",
        "optimizer = RMSprop(learning_rate=0.01)\n",
        "model.compile(loss='binary_crossentropy', optimizer=optimizer, metrics=['accuracy'])\n",
        "model.summary()"
      ],
      "execution_count": 78,
      "outputs": [
        {
          "output_type": "stream",
          "name": "stdout",
          "text": [
            "Model: \"sequential_16\"\n",
            "_________________________________________________________________\n",
            " Layer (type)                Output Shape              Param #   \n",
            "=================================================================\n",
            " lstm_16 (LSTM)              (None, 128)               105984    \n",
            "                                                                 \n",
            " dense_14 (Dense)            (None, 1)                 129       \n",
            "                                                                 \n",
            "=================================================================\n",
            "Total params: 106,113\n",
            "Trainable params: 106,113\n",
            "Non-trainable params: 0\n",
            "_________________________________________________________________\n"
          ]
        }
      ]
    },
    {
      "cell_type": "markdown",
      "metadata": {
        "id": "hWFb-nAMHuAI"
      },
      "source": [
        "## Model training\n",
        "Train the model and apply early stopping."
      ]
    },
    {
      "cell_type": "code",
      "metadata": {
        "id": "dvgKjqp3Hwkp",
        "colab": {
          "base_uri": "https://localhost:8080/"
        },
        "outputId": "5c33860b-b061-4c68-e6ea-e6c51652948c"
      },
      "source": [
        "es = EarlyStopping(patience=5, restore_best_weights=True, monitor=\"val_loss\")\n",
        "\n",
        "model.fit(X_train, y_train, \n",
        "          epochs=20, batch_size=32,\n",
        "          validation_data=(X_val,y_val),\n",
        "          callbacks=[es],\n",
        "          verbose=2)"
      ],
      "execution_count": 79,
      "outputs": [
        {
          "output_type": "stream",
          "name": "stdout",
          "text": [
            "Epoch 1/20\n",
            "325/325 - 49s - loss: 0.6001 - accuracy: 0.7187 - val_loss: 0.5911 - val_accuracy: 0.7205 - 49s/epoch - 150ms/step\n",
            "Epoch 2/20\n",
            "325/325 - 36s - loss: 0.5998 - accuracy: 0.7199 - val_loss: 0.5866 - val_accuracy: 0.7217 - 36s/epoch - 112ms/step\n",
            "Epoch 3/20\n",
            "325/325 - 35s - loss: 0.5924 - accuracy: 0.7177 - val_loss: 0.5693 - val_accuracy: 0.7370 - 35s/epoch - 108ms/step\n",
            "Epoch 4/20\n",
            "325/325 - 35s - loss: 0.5851 - accuracy: 0.7224 - val_loss: 0.5995 - val_accuracy: 0.7240 - 35s/epoch - 109ms/step\n",
            "Epoch 5/20\n",
            "325/325 - 35s - loss: 0.5516 - accuracy: 0.7513 - val_loss: 0.5207 - val_accuracy: 0.7737 - 35s/epoch - 109ms/step\n",
            "Epoch 6/20\n",
            "325/325 - 37s - loss: 0.5078 - accuracy: 0.7705 - val_loss: 0.5005 - val_accuracy: 0.7540 - 37s/epoch - 113ms/step\n",
            "Epoch 7/20\n",
            "325/325 - 49s - loss: 0.4726 - accuracy: 0.7882 - val_loss: 0.4336 - val_accuracy: 0.8029 - 49s/epoch - 151ms/step\n",
            "Epoch 8/20\n",
            "325/325 - 47s - loss: 0.4454 - accuracy: 0.7939 - val_loss: 0.4199 - val_accuracy: 0.8069 - 47s/epoch - 144ms/step\n",
            "Epoch 9/20\n",
            "325/325 - 44s - loss: 0.4316 - accuracy: 0.7988 - val_loss: 0.4216 - val_accuracy: 0.8072 - 44s/epoch - 135ms/step\n",
            "Epoch 10/20\n",
            "325/325 - 34s - loss: 0.4236 - accuracy: 0.8035 - val_loss: 0.4040 - val_accuracy: 0.8095 - 34s/epoch - 104ms/step\n",
            "Epoch 11/20\n",
            "325/325 - 35s - loss: 0.4040 - accuracy: 0.8151 - val_loss: 0.3816 - val_accuracy: 0.8289 - 35s/epoch - 107ms/step\n",
            "Epoch 12/20\n",
            "325/325 - 35s - loss: 0.3903 - accuracy: 0.8216 - val_loss: 0.3736 - val_accuracy: 0.8347 - 35s/epoch - 109ms/step\n",
            "Epoch 13/20\n",
            "325/325 - 35s - loss: 0.3749 - accuracy: 0.8301 - val_loss: 0.3487 - val_accuracy: 0.8402 - 35s/epoch - 109ms/step\n",
            "Epoch 14/20\n",
            "325/325 - 37s - loss: 0.3668 - accuracy: 0.8325 - val_loss: 0.3392 - val_accuracy: 0.8503 - 37s/epoch - 114ms/step\n",
            "Epoch 15/20\n",
            "325/325 - 37s - loss: 0.3511 - accuracy: 0.8451 - val_loss: 0.3299 - val_accuracy: 0.8535 - 37s/epoch - 113ms/step\n",
            "Epoch 16/20\n",
            "325/325 - 36s - loss: 0.3460 - accuracy: 0.8461 - val_loss: 0.3554 - val_accuracy: 0.8448 - 36s/epoch - 110ms/step\n",
            "Epoch 17/20\n",
            "325/325 - 43s - loss: 0.3381 - accuracy: 0.8515 - val_loss: 0.3082 - val_accuracy: 0.8633 - 43s/epoch - 133ms/step\n",
            "Epoch 18/20\n",
            "325/325 - 35s - loss: 0.3198 - accuracy: 0.8566 - val_loss: 0.3275 - val_accuracy: 0.8543 - 35s/epoch - 107ms/step\n",
            "Epoch 19/20\n",
            "325/325 - 35s - loss: 0.3219 - accuracy: 0.8548 - val_loss: 0.2975 - val_accuracy: 0.8682 - 35s/epoch - 109ms/step\n",
            "Epoch 20/20\n",
            "325/325 - 34s - loss: 0.3056 - accuracy: 0.8642 - val_loss: 0.3099 - val_accuracy: 0.8627 - 34s/epoch - 103ms/step\n"
          ]
        },
        {
          "output_type": "execute_result",
          "data": {
            "text/plain": [
              "<keras.callbacks.History at 0x7fa19ff96040>"
            ]
          },
          "metadata": {},
          "execution_count": 79
        }
      ]
    },
    {
      "cell_type": "markdown",
      "metadata": {
        "id": "0omw2XzSHwOo"
      },
      "source": [
        "## Evaluation on test data\n",
        "Evaluate the model on the test data in terms of loss and accuracy."
      ]
    },
    {
      "cell_type": "code",
      "metadata": {
        "id": "4bF3dQA1Hv_R",
        "colab": {
          "base_uri": "https://localhost:8080/"
        },
        "outputId": "7e96ee93-ca06-4142-d518-71b2309eb302"
      },
      "source": [
        "loss, accuracy = model.evaluate(X_test, y_test)\n",
        "print(\"Test loss:\", loss)\n",
        "print(\"Test accuracy:\", accuracy)"
      ],
      "execution_count": 80,
      "outputs": [
        {
          "output_type": "stream",
          "name": "stdout",
          "text": [
            "109/109 [==============================] - 5s 45ms/step - loss: 0.2956 - accuracy: 0.8671\n",
            "Test loss: 0.29555970430374146\n",
            "Test accuracy: 0.8670520186424255\n"
          ]
        }
      ]
    },
    {
      "cell_type": "markdown",
      "metadata": {
        "id": "4Y73Q-h5Hz1r"
      },
      "source": [
        "## Confusion matrix\n",
        "Calculate and display the confusion matrix."
      ]
    },
    {
      "cell_type": "code",
      "metadata": {
        "id": "cW8zZi1uJm2B",
        "colab": {
          "base_uri": "https://localhost:8080/",
          "height": 466
        },
        "outputId": "19db67b3-b839-40b6-93cc-4839585a96d3"
      },
      "source": [
        "from sklearn.metrics import confusion_matrix\n",
        "import seaborn as sns\n",
        "\n",
        "pred = model.predict(X_test) > 0.5\n",
        "cm=confusion_matrix(y_test,pred)\n",
        "sns.heatmap(cm, annot=True, fmt='d', xticklabels=[\"Jane Austen\", \"F Scott Fitzgerald\"], yticklabels=[\"Jane Austen\", \"F Scott Fitzgerald\"])\n",
        "plot.xlabel(\"Predicted Label\")\n",
        "plot.ylabel(\"Actual Label\")\n",
        "plot.show()"
      ],
      "execution_count": 81,
      "outputs": [
        {
          "output_type": "stream",
          "name": "stdout",
          "text": [
            "109/109 [==============================] - 4s 33ms/step\n"
          ]
        },
        {
          "output_type": "display_data",
          "data": {
            "text/plain": [
              "<Figure size 640x480 with 2 Axes>"
            ],
            "image/png": "[encoded data removed]"
          },
          "metadata": {}
        }
      ]
    }
  ]
}
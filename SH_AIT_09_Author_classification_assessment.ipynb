{
  "nbformat": 4,
  "nbformat_minor": 0,
  "metadata": {
    "kernelspec": {
      "display_name": "Python 3",
      "language": "python",
      "name": "python3"
    },
    "language_info": {
      "codemirror_mode": {
        "name": "ipython",
        "version": 3
      },
      "file_extension": ".py",
      "mimetype": "text/x-python",
      "name": "python",
      "nbconvert_exporter": "python",
      "pygments_lexer": "ipython3",
      "version": "3.6.6"
    },
    "colab": {
      "provenance": [],
      "include_colab_link": true
    }
  },
  "cells": [
    {
      "cell_type": "markdown",
      "metadata": {
        "id": "view-in-github",
        "colab_type": "text"
      },
      "source": [
        "<a href=\"https://colab.research.google.com/github/summerhasama/deeplearninga1/blob/main/SH_AIT_09_Author_classification_assessment.ipynb\" target=\"_parent\"><img src=\"https://colab.research.google.com/assets/colab-badge.svg\" alt=\"Open In Colab\"/></a>"
      ]
    },
    {
      "cell_type": "markdown",
      "metadata": {
        "id": "_jiGtJu6u9ml"
      },
      "source": [
        "# Copyright\n",
        "\n",
        "<PRE>\n",
        "Copyright (c) 2023 Bálint Gyires-Tóth - All Rights Reserved\n",
        "You may use and modify this code for research and development purpuses.\n",
        "Use this code for educational purposes (self-paced or instructor led) without the permission of the author is prohibited.\n",
        "</PRE>"
      ]
    },
    {
      "cell_type": "markdown",
      "metadata": {
        "id": "oXyFC44jV-PP"
      },
      "source": [
        "# Author classification\n",
        "The task is to train a 1D CNN or an LSTM that is able to  classify text from two authors. The final model should be able to tell about a text with a given length (e.g. 60 characters) who wrote it. \n",
        "\n",
        "Please write the codes according to the following parts:"
      ]
    },
    {
      "cell_type": "markdown",
      "metadata": {
        "id": "jCnLoeGrHXsp"
      },
      "source": [
        "## Python module imports\n",
        "Import all Python modules that you would need during the Assignment."
      ]
    },
    {
      "cell_type": "code",
      "metadata": {
        "id": "7itbFGt3HXVT"
      },
      "source": [
        "import matplotlib.pyplot as plot\n",
        "import pandas as pd\n",
        "from tensorflow.keras.models import Sequential\n",
        "from tensorflow.keras.layers import Dense, Activation, Dropout, Flatten\n",
        "from tensorflow.keras.layers import LSTM\n",
        "from tensorflow.keras.optimizers import RMSprop\n",
        "from tensorflow.keras.callbacks import EarlyStopping\n",
        "from urllib.request import urlretrieve\n",
        "import numpy as np\n",
        "from sklearn.model_selection import train_test_split\n",
        "import random\n",
        "import sys\n",
        "import re, cgi"
      ],
      "execution_count": 52,
      "outputs": []
    },
    {
      "cell_type": "markdown",
      "metadata": {
        "id": "Hr617tEpHd8R"
      },
      "source": [
        "## Data acquisition\n",
        "Seek a possible dataset, you can use any source, e.g.\n",
        "* http://www.gutenberg.org/\n",
        "* https://www.kaggle.com/datasets\n",
        "* https://paperswithcode.com/datasets\n",
        "* if you would like to learn Hungarian, than e.g. https://mek.oszk.hu/\n",
        "\n",
        "You can download the text by hand (e.g. by copy-pasting some parts into txt files) or with Python. "
      ]
    },
    {
      "cell_type": "code",
      "metadata": {
        "id": "NgkdQxHqHdZB"
      },
      "source": [
        "url_book_1 =\"https://www.gutenberg.org/cache/epub/1342/pg1342.txt\" # Pride and prejudice by Jane Austen\n",
        "urlretrieve(url_book_1, 'book1.txt')\n",
        "ptext = open(\"book1.txt\", encoding='utf-8').read().lower()\n",
        "\n",
        "url_book_2 =\"https://www.gutenberg.org/cache/epub/64317/pg64317.txt\" # Great Gatsby by F Scott Fitzgerald\n",
        "urlretrieve(url_book_2, 'book2.txt')\n",
        "gtext = open(\"book2.txt\", encoding='utf-8').read().lower()"
      ],
      "execution_count": 9,
      "outputs": []
    },
    {
      "cell_type": "markdown",
      "source": [
        "## Data analysis\n",
        "Count the number of characters from both authors and display them on a plot (e.g. Seaborn's countplot)."
      ],
      "metadata": {
        "id": "U9Pmq91t3SRD"
      }
    },
    {
      "cell_type": "code",
      "source": [
        "g_char_count= len(gtext)\n",
        "p_char_count=len(ptext)\n",
        "print('Num chars in the Great Gatsby by F Scott Fitzgerald:',g_char_count)\n",
        "print('Num chars in Pride and Prejudice by Jane Austin:', p_char_count)"
      ],
      "metadata": {
        "id": "uRqGdn4F3Spk",
        "colab": {
          "base_uri": "https://localhost:8080/"
        },
        "outputId": "476438b9-0b3a-4e74-89b3-75849a407c4e"
      },
      "execution_count": 12,
      "outputs": [
        {
          "output_type": "stream",
          "name": "stdout",
          "text": [
            "Num chars in the Great Gatsby by F Scott Fitzgerald: 289901\n",
            "Num chars in Pride and Prejudice by Jane Austin: 748079\n"
          ]
        }
      ]
    },
    {
      "cell_type": "code",
      "source": [
        "plot.bar([\"The Great Gatsby\", \"Pride and Prejudice\"], [g_char_count,p_char_count])"
      ],
      "metadata": {
        "colab": {
          "base_uri": "https://localhost:8080/",
          "height": 447
        },
        "id": "pGlSzRyWJ0BL",
        "outputId": "871f6eca-a2f7-4a1b-98a0-f11025242eda"
      },
      "execution_count": 13,
      "outputs": [
        {
          "output_type": "execute_result",
          "data": {
            "text/plain": [
              "<BarContainer object of 2 artists>"
            ]
          },
          "metadata": {},
          "execution_count": 13
        },
        {
          "output_type": "display_data",
          "data": {
            "text/plain": [
              "<Figure size 640x480 with 1 Axes>"
            ],
            "image/png": "[encoded data removed]"
          },
          "metadata": {}
        }
      ]
    },
    {
      "cell_type": "markdown",
      "metadata": {
        "id": "cHyE_ndGIblJ"
      },
      "source": [
        "## Data loading, labeling and preprocessing\n",
        "Load the data and convert the characters into one-hot encodings. Then load the data into a 3D NumPy array, with a shape of\n",
        "\n",
        "* (batch, sequence_length, alphabet_length)\n",
        "\n",
        "where sequence_length=60, and alphabet_length equals to the number of unique characters in both datasets. The sequences should be cut out from the complete dataset by sliding window. You should add 0 and 1 labels to the sequences, according to the author. \n",
        "\n",
        "Later you may change sequence_length to achieve better results!"
      ]
    },
    {
      "cell_type": "code",
      "metadata": {
        "id": "arooXt0WIb6x"
      },
      "source": [
        "# Universal list of characters\n",
        "chars = sorted(list(set(gtext+ptext)))\n",
        "\n",
        "# character->index and index->character dictionaries for the one-hot encodings\n",
        "char_indices = dict((c, i) for i, c in enumerate(chars))\n",
        "indices_char = dict((i, c) for i, c in enumerate(chars))\n",
        "\n",
        "g_seqs= []\n",
        "p_seqs= []\n",
        "seq_length=60\n",
        "alphabet_length = len(chars)\n",
        "for i in range(0, g_char_count,seq_length):\n",
        "    g_seqs.append(gtext[i:i+seq_length])\n",
        "for i in range(0, p_char_count, seq_length):\n",
        "    p_seqs.append(ptext[i:i+seq_length])"
      ],
      "execution_count": 19,
      "outputs": []
    },
    {
      "cell_type": "code",
      "source": [
        "batch = len(p_seqs+g_seqs)\n",
        "X = np.zeros((batch, seq_length, alphabet_length), dtype =float)\n",
        "y = np.zeros((batch,1), dtype=float)"
      ],
      "metadata": {
        "id": "w9jpKEEfIkGh"
      },
      "execution_count": 58,
      "outputs": []
    },
    {
      "cell_type": "code",
      "source": [
        "# one hot encodings\n",
        "for i, sentence in enumerate(p_seqs):\n",
        "    for t, char in enumerate(sentence): \n",
        "        X[i,t,char_indices[char]] = 1\n",
        "    y[i][0] = 1 # author is F Scott Fitzgerald\n",
        "\n",
        "for i, sentence in enumerate(g_seqs):\n",
        "    for t, char in enumerate(sentence): \n",
        "        X[i+len(p_seqs),t,char_indices[char]] = 1\n",
        "    y[i+len(p_seqs)][0] = 0 # author is Jane Austen"
      ],
      "metadata": {
        "id": "4_b9pj11JHLO"
      },
      "execution_count": 59,
      "outputs": []
    },
    {
      "cell_type": "markdown",
      "metadata": {
        "id": "lL1Mc8ibHnep"
      },
      "source": [
        "## Data splitting\n",
        "Split the data into train, validate and test sets. "
      ]
    },
    {
      "cell_type": "code",
      "metadata": {
        "id": "ELyG9XFUHrkB"
      },
      "source": [
        "X_train, X_test, y_train, y_test = train_test_split(X, y, test_size=0.2)\n",
        "\n",
        "X_train, X_val, y_train, y_val = train_test_split(X_train, y_train, test_size=0.25)"
      ],
      "execution_count": 60,
      "outputs": []
    },
    {
      "cell_type": "markdown",
      "metadata": {
        "id": "hA8U9tr7HrNQ"
      },
      "source": [
        "## Model definition\n",
        "Define a 1D CNN or an LSTM for the task. Compile the model with the correct loss function."
      ]
    },
    {
      "cell_type": "code",
      "metadata": {
        "id": "BT1V1s4kHuUe",
        "colab": {
          "base_uri": "https://localhost:8080/"
        },
        "outputId": "bb0b9307-9dd6-420e-e1a5-a5905a9a7437"
      },
      "source": [
        "model = Sequential()\n",
        "model.add(LSTM(128, input_shape=(seq_length, alphabet_length), dropout=0.2))\n",
        "model.add(Dense(1, activation=\"sigmoid\"))\n",
        "\n",
        "model.compile(loss='binary_crossentropy', optimizer='adam', metrics=['accuracy'])\n",
        "model.summary()"
      ],
      "execution_count": 61,
      "outputs": [
        {
          "output_type": "stream",
          "name": "stdout",
          "text": [
            "Model: \"sequential_12\"\n",
            "_________________________________________________________________\n",
            " Layer (type)                Output Shape              Param #   \n",
            "=================================================================\n",
            " lstm_12 (LSTM)              (None, 128)               105984    \n",
            "                                                                 \n",
            " dense_10 (Dense)            (None, 1)                 129       \n",
            "                                                                 \n",
            "=================================================================\n",
            "Total params: 106,113\n",
            "Trainable params: 106,113\n",
            "Non-trainable params: 0\n",
            "_________________________________________________________________\n"
          ]
        }
      ]
    },
    {
      "cell_type": "markdown",
      "metadata": {
        "id": "hWFb-nAMHuAI"
      },
      "source": [
        "## Model training\n",
        "Train the model and apply early stopping."
      ]
    },
    {
      "cell_type": "code",
      "metadata": {
        "id": "dvgKjqp3Hwkp",
        "colab": {
          "base_uri": "https://localhost:8080/"
        },
        "outputId": "59e752b0-4b4c-4020-94b7-561cd7d31832"
      },
      "source": [
        "es = EarlyStopping(patience=5, restore_best_weights=True, monitor=\"val_loss\")\n",
        "\n",
        "model.fit(X_train, y_train, \n",
        "          epochs=100, batch_size=32,\n",
        "          validation_data=(X_val,y_val),\n",
        "          callbacks=[es],\n",
        "          verbose=2)"
      ],
      "execution_count": null,
      "outputs": [
        {
          "output_type": "stream",
          "name": "stdout",
          "text": [
            "Epoch 1/100\n",
            "325/325 - 38s - loss: 0.5896 - accuracy: 0.7199 - val_loss: 0.5759 - val_accuracy: 0.7171 - 38s/epoch - 116ms/step\n",
            "Epoch 2/100\n",
            "325/325 - 34s - loss: 0.5626 - accuracy: 0.7301 - val_loss: 0.5726 - val_accuracy: 0.7428 - 34s/epoch - 106ms/step\n",
            "Epoch 3/100\n",
            "325/325 - 34s - loss: 0.5232 - accuracy: 0.7549 - val_loss: 0.5592 - val_accuracy: 0.7595 - 34s/epoch - 106ms/step\n",
            "Epoch 4/100\n",
            "325/325 - 38s - loss: 0.5268 - accuracy: 0.7473 - val_loss: 0.5118 - val_accuracy: 0.7512 - 38s/epoch - 117ms/step\n",
            "Epoch 5/100\n",
            "325/325 - 63s - loss: 0.4968 - accuracy: 0.7681 - val_loss: 0.4955 - val_accuracy: 0.7598 - 63s/epoch - 194ms/step\n",
            "Epoch 6/100\n",
            "325/325 - 41s - loss: 0.4874 - accuracy: 0.7741 - val_loss: 0.4964 - val_accuracy: 0.7679 - 41s/epoch - 127ms/step\n",
            "Epoch 7/100\n",
            "325/325 - 34s - loss: 0.4898 - accuracy: 0.7700 - val_loss: 0.4755 - val_accuracy: 0.7734 - 34s/epoch - 106ms/step\n",
            "Epoch 8/100\n",
            "325/325 - 36s - loss: 0.4845 - accuracy: 0.7781 - val_loss: 0.4956 - val_accuracy: 0.7838 - 36s/epoch - 110ms/step\n",
            "Epoch 9/100\n",
            "325/325 - 35s - loss: 0.4720 - accuracy: 0.7813 - val_loss: 0.4647 - val_accuracy: 0.7809 - 35s/epoch - 107ms/step\n",
            "Epoch 10/100\n",
            "325/325 - 34s - loss: 0.4695 - accuracy: 0.7802 - val_loss: 0.4853 - val_accuracy: 0.7671 - 34s/epoch - 106ms/step\n",
            "Epoch 11/100\n",
            "325/325 - 37s - loss: 0.4606 - accuracy: 0.7867 - val_loss: 0.4543 - val_accuracy: 0.7853 - 37s/epoch - 114ms/step\n",
            "Epoch 12/100\n",
            "325/325 - 35s - loss: 0.4560 - accuracy: 0.7876 - val_loss: 0.4401 - val_accuracy: 0.7939 - 35s/epoch - 108ms/step\n",
            "Epoch 13/100\n",
            "325/325 - 35s - loss: 0.4626 - accuracy: 0.7817 - val_loss: 0.4437 - val_accuracy: 0.7954 - 35s/epoch - 107ms/step\n",
            "Epoch 14/100\n",
            "325/325 - 36s - loss: 0.4444 - accuracy: 0.7923 - val_loss: 0.4432 - val_accuracy: 0.7962 - 36s/epoch - 110ms/step\n",
            "Epoch 15/100\n",
            "325/325 - 34s - loss: 0.4280 - accuracy: 0.8013 - val_loss: 0.4054 - val_accuracy: 0.8124 - 34s/epoch - 103ms/step\n",
            "Epoch 16/100\n",
            "325/325 - 33s - loss: 0.4253 - accuracy: 0.8093 - val_loss: 0.4181 - val_accuracy: 0.8020 - 33s/epoch - 103ms/step\n",
            "Epoch 17/100\n",
            "325/325 - 40s - loss: 0.4103 - accuracy: 0.8140 - val_loss: 0.3945 - val_accuracy: 0.8127 - 40s/epoch - 123ms/step\n",
            "Epoch 18/100\n",
            "325/325 - 32s - loss: 0.3978 - accuracy: 0.8176 - val_loss: 0.3819 - val_accuracy: 0.8179 - 32s/epoch - 98ms/step\n",
            "Epoch 19/100\n",
            "325/325 - 33s - loss: 0.3883 - accuracy: 0.8197 - val_loss: 0.4169 - val_accuracy: 0.8066 - 33s/epoch - 101ms/step\n",
            "Epoch 20/100\n",
            "325/325 - 33s - loss: 0.3813 - accuracy: 0.8276 - val_loss: 0.3796 - val_accuracy: 0.8335 - 33s/epoch - 103ms/step\n",
            "Epoch 21/100\n",
            "325/325 - 31s - loss: 0.3763 - accuracy: 0.8296 - val_loss: 0.3614 - val_accuracy: 0.8410 - 31s/epoch - 97ms/step\n",
            "Epoch 22/100\n",
            "325/325 - 32s - loss: 0.3729 - accuracy: 0.8336 - val_loss: 0.3478 - val_accuracy: 0.8483 - 32s/epoch - 99ms/step\n",
            "Epoch 23/100\n",
            "325/325 - 33s - loss: 0.3532 - accuracy: 0.8422 - val_loss: 0.3496 - val_accuracy: 0.8497 - 33s/epoch - 102ms/step\n",
            "Epoch 24/100\n",
            "325/325 - 33s - loss: 0.3486 - accuracy: 0.8429 - val_loss: 0.3611 - val_accuracy: 0.8471 - 33s/epoch - 102ms/step\n",
            "Epoch 25/100\n",
            "325/325 - 32s - loss: 0.3503 - accuracy: 0.8435 - val_loss: 0.3337 - val_accuracy: 0.8566 - 32s/epoch - 98ms/step\n",
            "Epoch 26/100\n",
            "325/325 - 32s - loss: 0.3411 - accuracy: 0.8469 - val_loss: 0.3386 - val_accuracy: 0.8581 - 32s/epoch - 99ms/step\n",
            "Epoch 27/100\n",
            "325/325 - 33s - loss: 0.3326 - accuracy: 0.8534 - val_loss: 0.3505 - val_accuracy: 0.8546 - 33s/epoch - 102ms/step\n",
            "Epoch 28/100\n",
            "325/325 - 33s - loss: 0.3304 - accuracy: 0.8535 - val_loss: 0.3216 - val_accuracy: 0.8587 - 33s/epoch - 102ms/step\n",
            "Epoch 29/100\n"
          ]
        }
      ]
    },
    {
      "cell_type": "markdown",
      "metadata": {
        "id": "0omw2XzSHwOo"
      },
      "source": [
        "## Evaluation on test data\n",
        "Evaluate the model on the test data in terms of loss and accuracy."
      ]
    },
    {
      "cell_type": "code",
      "metadata": {
        "id": "4bF3dQA1Hv_R"
      },
      "source": [
        "loss, accuracy = model.evaluate(X_test, y_test)\n",
        "print(\"Test loss:\", loss)\n",
        "print(\"Test accuracy:\", accuracy)"
      ],
      "execution_count": null,
      "outputs": []
    },
    {
      "cell_type": "markdown",
      "metadata": {
        "id": "4Y73Q-h5Hz1r"
      },
      "source": [
        "## Confusion matrix\n",
        "Calculate and display the confusion matrix."
      ]
    },
    {
      "cell_type": "code",
      "metadata": {
        "id": "cW8zZi1uJm2B"
      },
      "source": [
        "from sklearn.metrics import confusion_matrix, classification_report\n",
        "import seaborn as sns\n",
        "\n",
        "preds = model.predict(X_test)\n",
        "conf=confusion_matrix(np.argmax(y_test,1),np.argmax(preds,1))\n",
        "sns.heatmap(conf, annot=True, fmt='d', vmax=1600)"
      ],
      "execution_count": null,
      "outputs": []
    }
  ]
}
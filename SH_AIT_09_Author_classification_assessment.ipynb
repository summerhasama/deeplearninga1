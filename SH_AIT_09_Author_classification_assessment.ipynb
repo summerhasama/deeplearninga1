{
  "nbformat": 4,
  "nbformat_minor": 0,
  "metadata": {
    "kernelspec": {
      "display_name": "Python 3",
      "language": "python",
      "name": "python3"
    },
    "language_info": {
      "codemirror_mode": {
        "name": "ipython",
        "version": 3
      },
      "file_extension": ".py",
      "mimetype": "text/x-python",
      "name": "python",
      "nbconvert_exporter": "python",
      "pygments_lexer": "ipython3",
      "version": "3.6.6"
    },
    "colab": {
      "provenance": [],
      "include_colab_link": true
    }
  },
  "cells": [
    {
      "cell_type": "markdown",
      "metadata": {
        "id": "view-in-github",
        "colab_type": "text"
      },
      "source": [
        "<a href=\"https://colab.research.google.com/github/summerhasama/deeplearninga1/blob/main/SH_AIT_09_Author_classification_assessment.ipynb\" target=\"_parent\"><img src=\"https://colab.research.google.com/assets/colab-badge.svg\" alt=\"Open In Colab\"/></a>"
      ]
    },
    {
      "cell_type": "markdown",
      "metadata": {
        "id": "_jiGtJu6u9ml"
      },
      "source": [
        "# Copyright\n",
        "\n",
        "<PRE>\n",
        "Copyright (c) 2023 Bálint Gyires-Tóth - All Rights Reserved\n",
        "You may use and modify this code for research and development purpuses.\n",
        "Use this code for educational purposes (self-paced or instructor led) without the permission of the author is prohibited.\n",
        "</PRE>"
      ]
    },
    {
      "cell_type": "markdown",
      "metadata": {
        "id": "oXyFC44jV-PP"
      },
      "source": [
        "# Author classification\n",
        "The task is to train a 1D CNN or an LSTM that is able to  classify text from two authors. The final model should be able to tell about a text with a given length (e.g. 60 characters) who wrote it. \n",
        "\n",
        "Please write the codes according to the following parts:"
      ]
    },
    {
      "cell_type": "markdown",
      "metadata": {
        "id": "jCnLoeGrHXsp"
      },
      "source": [
        "## Python module imports\n",
        "Import all Python modules that you would need during the Assignment."
      ]
    },
    {
      "cell_type": "code",
      "metadata": {
        "id": "7itbFGt3HXVT"
      },
      "source": [
        "import matplotlib.pyplot as plot\n",
        "import pandas as pd\n",
        "from tensorflow.keras.models import Sequential\n",
        "from tensorflow.keras.layers import Dense, Activation, Dropout, Flatten\n",
        "from tensorflow.keras.layers import LSTM\n",
        "from tensorflow.keras.callbacks import EarlyStopping\n",
        "from tensorflow.keras.optimizers import RMSprop\n",
        "from urllib.request import urlretrieve\n",
        "import numpy as np\n",
        "from sklearn.model_selection import train_test_split\n",
        "import random\n",
        "import sys\n",
        "import re, cgi"
      ],
      "execution_count": 82,
      "outputs": []
    },
    {
      "cell_type": "markdown",
      "metadata": {
        "id": "Hr617tEpHd8R"
      },
      "source": [
        "## Data acquisition\n",
        "Seek a possible dataset, you can use any source, e.g.\n",
        "* http://www.gutenberg.org/\n",
        "* https://www.kaggle.com/datasets\n",
        "* https://paperswithcode.com/datasets\n",
        "* if you would like to learn Hungarian, than e.g. https://mek.oszk.hu/\n",
        "\n",
        "You can download the text by hand (e.g. by copy-pasting some parts into txt files) or with Python. "
      ]
    },
    {
      "cell_type": "code",
      "metadata": {
        "id": "NgkdQxHqHdZB"
      },
      "source": [
        "url_book_1 =\"https://www.gutenberg.org/cache/epub/1342/pg1342.txt\" # Pride and prejudice by Jane Austen\n",
        "urlretrieve(url_book_1, 'book1.txt')\n",
        "ptext = open(\"book1.txt\", encoding='utf-8').read().lower()\n",
        "\n",
        "url_book_2 =\"https://www.gutenberg.org/cache/epub/64317/pg64317.txt\" # Great Gatsby by F Scott Fitzgerald\n",
        "urlretrieve(url_book_2, 'book2.txt')\n",
        "gtext = open(\"book2.txt\", encoding='utf-8').read().lower()"
      ],
      "execution_count": 83,
      "outputs": []
    },
    {
      "cell_type": "markdown",
      "source": [
        "## Data analysis\n",
        "Count the number of characters from both authors and display them on a plot (e.g. Seaborn's countplot)."
      ],
      "metadata": {
        "id": "U9Pmq91t3SRD"
      }
    },
    {
      "cell_type": "code",
      "source": [
        "g_char_count= len(gtext)\n",
        "p_char_count=len(ptext)\n",
        "print('Num chars in the Great Gatsby by F Scott Fitzgerald:',g_char_count)\n",
        "print('Num chars in Pride and Prejudice by Jane Austin:', p_char_count)"
      ],
      "metadata": {
        "id": "uRqGdn4F3Spk",
        "colab": {
          "base_uri": "https://localhost:8080/"
        },
        "outputId": "ebeef9e3-ff9d-4c9d-8f34-6a0cb2432c04"
      },
      "execution_count": 84,
      "outputs": [
        {
          "output_type": "stream",
          "name": "stdout",
          "text": [
            "Num chars in the Great Gatsby by F Scott Fitzgerald: 289901\n",
            "Num chars in Pride and Prejudice by Jane Austin: 748079\n"
          ]
        }
      ]
    },
    {
      "cell_type": "code",
      "source": [
        "plot.bar([\"The Great Gatsby\", \"Pride and Prejudice\"], [g_char_count,p_char_count])"
      ],
      "metadata": {
        "colab": {
          "base_uri": "https://localhost:8080/",
          "height": 447
        },
        "id": "pGlSzRyWJ0BL",
        "outputId": "d0a3d001-60bc-475d-b45e-bfd34d5ebb05"
      },
      "execution_count": 85,
      "outputs": [
        {
          "output_type": "execute_result",
          "data": {
            "text/plain": [
              "<BarContainer object of 2 artists>"
            ]
          },
          "metadata": {},
          "execution_count": 85
        },
        {
          "output_type": "display_data",
          "data": {
            "text/plain": [
              "<Figure size 640x480 with 1 Axes>"
            ],
            "image/png": "[encoded data removed]"
          },
          "metadata": {}
        }
      ]
    },
    {
      "cell_type": "markdown",
      "metadata": {
        "id": "cHyE_ndGIblJ"
      },
      "source": [
        "## Data loading, labeling and preprocessing\n",
        "Load the data and convert the characters into one-hot encodings. Then load the data into a 3D NumPy array, with a shape of\n",
        "\n",
        "* (batch, sequence_length, alphabet_length)\n",
        "\n",
        "where sequence_length=60, and alphabet_length equals to the number of unique characters in both datasets. The sequences should be cut out from the complete dataset by sliding window. You should add 0 and 1 labels to the sequences, according to the author. \n",
        "\n",
        "Later you may change sequence_length to achieve better results!"
      ]
    },
    {
      "cell_type": "code",
      "metadata": {
        "id": "arooXt0WIb6x"
      },
      "source": [
        "# Universal list of characters\n",
        "chars = sorted(list(set(gtext+ptext)))\n",
        "\n",
        "# character->index and index->character dictionaries for the one-hot encodings\n",
        "char_indices = dict((c, i) for i, c in enumerate(chars))\n",
        "indices_char = dict((i, c) for i, c in enumerate(chars))\n",
        "\n",
        "g_seqs= []\n",
        "p_seqs= []\n",
        "seq_length=60\n",
        "alphabet_length = len(chars)\n",
        "for i in range(0, g_char_count,seq_length):\n",
        "    g_seqs.append(gtext[i:i+seq_length])\n",
        "for i in range(0, p_char_count, seq_length):\n",
        "    p_seqs.append(ptext[i:i+seq_length])"
      ],
      "execution_count": 86,
      "outputs": []
    },
    {
      "cell_type": "code",
      "source": [
        "batch = len(p_seqs+g_seqs)\n",
        "X = np.zeros((batch, seq_length, alphabet_length), dtype =float)\n",
        "y = np.zeros((batch,1), dtype=float)"
      ],
      "metadata": {
        "id": "w9jpKEEfIkGh"
      },
      "execution_count": 87,
      "outputs": []
    },
    {
      "cell_type": "code",
      "source": [
        "# one hot encodings\n",
        "for i, sentence in enumerate(p_seqs):\n",
        "    for t, char in enumerate(sentence): \n",
        "        X[i,t,char_indices[char]] = 1\n",
        "    y[i][0] = 1 # author is Jane Austen\n",
        "\n",
        "for i, sentence in enumerate(g_seqs):\n",
        "    for t, char in enumerate(sentence): \n",
        "        X[i+len(p_seqs),t,char_indices[char]] = 1\n",
        "    y[i+len(p_seqs)][0] = 0 # author is F Scott Fitzgerald"
      ],
      "metadata": {
        "id": "4_b9pj11JHLO"
      },
      "execution_count": 88,
      "outputs": []
    },
    {
      "cell_type": "markdown",
      "metadata": {
        "id": "lL1Mc8ibHnep"
      },
      "source": [
        "## Data splitting\n",
        "Split the data into train, validate and test sets. "
      ]
    },
    {
      "cell_type": "code",
      "metadata": {
        "id": "ELyG9XFUHrkB"
      },
      "source": [
        "X_train, X_test, y_train, y_test = train_test_split(X, y, test_size=0.2, random_state=3)\n",
        "\n",
        "X_train, X_val, y_train, y_val = train_test_split(X_train, y_train, test_size=0.25)"
      ],
      "execution_count": 89,
      "outputs": []
    },
    {
      "cell_type": "markdown",
      "metadata": {
        "id": "hA8U9tr7HrNQ"
      },
      "source": [
        "## Model definition\n",
        "Define a 1D CNN or an LSTM for the task. Compile the model with the correct loss function."
      ]
    },
    {
      "cell_type": "code",
      "metadata": {
        "id": "BT1V1s4kHuUe",
        "colab": {
          "base_uri": "https://localhost:8080/"
        },
        "outputId": "ab53f08a-6aa1-45cb-f8cd-c206bd229d52"
      },
      "source": [
        "model = Sequential()\n",
        "model.add(LSTM(128, input_shape=(seq_length, alphabet_length), dropout=0.2))\n",
        "model.add(Dense(1, activation=\"sigmoid\"))\n",
        "optimizer = RMSprop(learning_rate=0.01)\n",
        "model.compile(loss='binary_crossentropy', optimizer=optimizer, metrics=['accuracy'])\n",
        "model.summary()"
      ],
      "execution_count": 90,
      "outputs": [
        {
          "output_type": "stream",
          "name": "stdout",
          "text": [
            "Model: \"sequential_17\"\n",
            "_________________________________________________________________\n",
            " Layer (type)                Output Shape              Param #   \n",
            "=================================================================\n",
            " lstm_17 (LSTM)              (None, 128)               105984    \n",
            "                                                                 \n",
            " dense_15 (Dense)            (None, 1)                 129       \n",
            "                                                                 \n",
            "=================================================================\n",
            "Total params: 106,113\n",
            "Trainable params: 106,113\n",
            "Non-trainable params: 0\n",
            "_________________________________________________________________\n"
          ]
        }
      ]
    },
    {
      "cell_type": "markdown",
      "metadata": {
        "id": "hWFb-nAMHuAI"
      },
      "source": [
        "## Model training\n",
        "Train the model and apply early stopping."
      ]
    },
    {
      "cell_type": "code",
      "metadata": {
        "id": "dvgKjqp3Hwkp",
        "colab": {
          "base_uri": "https://localhost:8080/"
        },
        "outputId": "fae05b60-8d7b-4632-b2a0-e3bc89ecaec2"
      },
      "source": [
        "es = EarlyStopping(patience=5, restore_best_weights=True, monitor=\"val_loss\")\n",
        "\n",
        "model.fit(X_train, y_train, \n",
        "          epochs=100, batch_size=32,\n",
        "          validation_data=(X_val,y_val),\n",
        "          callbacks=[es],\n",
        "          verbose=2)"
      ],
      "execution_count": 91,
      "outputs": [
        {
          "output_type": "stream",
          "name": "stdout",
          "text": [
            "Epoch 1/100\n",
            "325/325 - 39s - loss: 0.6001 - accuracy: 0.7224 - val_loss: 0.5917 - val_accuracy: 0.7185 - 39s/epoch - 119ms/step\n",
            "Epoch 2/100\n",
            "325/325 - 34s - loss: 0.5976 - accuracy: 0.7199 - val_loss: 0.5870 - val_accuracy: 0.7185 - 34s/epoch - 105ms/step\n",
            "Epoch 3/100\n",
            "325/325 - 32s - loss: 0.5813 - accuracy: 0.7206 - val_loss: 0.5850 - val_accuracy: 0.7162 - 32s/epoch - 100ms/step\n",
            "Epoch 4/100\n",
            "325/325 - 35s - loss: 0.5722 - accuracy: 0.7315 - val_loss: 0.5557 - val_accuracy: 0.7500 - 35s/epoch - 106ms/step\n",
            "Epoch 5/100\n",
            "325/325 - 32s - loss: 0.5384 - accuracy: 0.7488 - val_loss: 0.5007 - val_accuracy: 0.7656 - 32s/epoch - 98ms/step\n",
            "Epoch 6/100\n",
            "325/325 - 33s - loss: 0.4892 - accuracy: 0.7848 - val_loss: 0.5102 - val_accuracy: 0.7763 - 33s/epoch - 103ms/step\n",
            "Epoch 7/100\n",
            "325/325 - 34s - loss: 0.4575 - accuracy: 0.7890 - val_loss: 0.4474 - val_accuracy: 0.7905 - 34s/epoch - 105ms/step\n",
            "Epoch 8/100\n",
            "325/325 - 34s - loss: 0.4373 - accuracy: 0.7996 - val_loss: 0.4079 - val_accuracy: 0.8113 - 34s/epoch - 105ms/step\n",
            "Epoch 9/100\n",
            "325/325 - 34s - loss: 0.4183 - accuracy: 0.8096 - val_loss: 0.3674 - val_accuracy: 0.8373 - 34s/epoch - 105ms/step\n",
            "Epoch 10/100\n",
            "325/325 - 34s - loss: 0.3970 - accuracy: 0.8194 - val_loss: 0.3448 - val_accuracy: 0.8488 - 34s/epoch - 104ms/step\n",
            "Epoch 11/100\n",
            "325/325 - 35s - loss: 0.3762 - accuracy: 0.8270 - val_loss: 0.3702 - val_accuracy: 0.8298 - 35s/epoch - 107ms/step\n",
            "Epoch 12/100\n",
            "325/325 - 33s - loss: 0.3658 - accuracy: 0.8353 - val_loss: 0.3416 - val_accuracy: 0.8535 - 33s/epoch - 103ms/step\n",
            "Epoch 13/100\n",
            "325/325 - 32s - loss: 0.3551 - accuracy: 0.8384 - val_loss: 0.3255 - val_accuracy: 0.8584 - 32s/epoch - 98ms/step\n",
            "Epoch 14/100\n",
            "325/325 - 33s - loss: 0.3414 - accuracy: 0.8505 - val_loss: 0.3113 - val_accuracy: 0.8639 - 33s/epoch - 102ms/step\n",
            "Epoch 15/100\n",
            "325/325 - 34s - loss: 0.3265 - accuracy: 0.8539 - val_loss: 0.3095 - val_accuracy: 0.8610 - 34s/epoch - 106ms/step\n",
            "Epoch 16/100\n",
            "325/325 - 33s - loss: 0.3110 - accuracy: 0.8626 - val_loss: 0.3080 - val_accuracy: 0.8679 - 33s/epoch - 101ms/step\n",
            "Epoch 17/100\n",
            "325/325 - 34s - loss: 0.3035 - accuracy: 0.8677 - val_loss: 0.2975 - val_accuracy: 0.8702 - 34s/epoch - 104ms/step\n",
            "Epoch 18/100\n",
            "325/325 - 32s - loss: 0.2934 - accuracy: 0.8682 - val_loss: 0.3271 - val_accuracy: 0.8532 - 32s/epoch - 99ms/step\n",
            "Epoch 19/100\n",
            "325/325 - 33s - loss: 0.2861 - accuracy: 0.8778 - val_loss: 0.2991 - val_accuracy: 0.8714 - 33s/epoch - 103ms/step\n",
            "Epoch 20/100\n",
            "325/325 - 32s - loss: 0.2807 - accuracy: 0.8780 - val_loss: 0.2835 - val_accuracy: 0.8751 - 32s/epoch - 99ms/step\n",
            "Epoch 21/100\n",
            "325/325 - 33s - loss: 0.2698 - accuracy: 0.8822 - val_loss: 0.3006 - val_accuracy: 0.8650 - 33s/epoch - 102ms/step\n",
            "Epoch 22/100\n",
            "325/325 - 32s - loss: 0.2672 - accuracy: 0.8855 - val_loss: 0.2914 - val_accuracy: 0.8827 - 32s/epoch - 98ms/step\n",
            "Epoch 23/100\n",
            "325/325 - 33s - loss: 0.2641 - accuracy: 0.8862 - val_loss: 0.2818 - val_accuracy: 0.8783 - 33s/epoch - 102ms/step\n",
            "Epoch 24/100\n",
            "325/325 - 32s - loss: 0.2502 - accuracy: 0.8961 - val_loss: 0.2695 - val_accuracy: 0.8870 - 32s/epoch - 98ms/step\n",
            "Epoch 25/100\n",
            "325/325 - 34s - loss: 0.2469 - accuracy: 0.8960 - val_loss: 0.2798 - val_accuracy: 0.8850 - 34s/epoch - 105ms/step\n",
            "Epoch 26/100\n",
            "325/325 - 34s - loss: 0.2391 - accuracy: 0.8987 - val_loss: 0.2706 - val_accuracy: 0.8910 - 34s/epoch - 104ms/step\n",
            "Epoch 27/100\n",
            "325/325 - 33s - loss: 0.2359 - accuracy: 0.9008 - val_loss: 0.2690 - val_accuracy: 0.8870 - 33s/epoch - 101ms/step\n",
            "Epoch 28/100\n",
            "325/325 - 33s - loss: 0.2337 - accuracy: 0.9005 - val_loss: 0.2898 - val_accuracy: 0.8876 - 33s/epoch - 101ms/step\n",
            "Epoch 29/100\n",
            "325/325 - 35s - loss: 0.2269 - accuracy: 0.9056 - val_loss: 0.2872 - val_accuracy: 0.8855 - 35s/epoch - 107ms/step\n",
            "Epoch 30/100\n",
            "325/325 - 34s - loss: 0.2242 - accuracy: 0.9072 - val_loss: 0.2909 - val_accuracy: 0.8887 - 34s/epoch - 105ms/step\n",
            "Epoch 31/100\n",
            "325/325 - 34s - loss: 0.2297 - accuracy: 0.9064 - val_loss: 0.2721 - val_accuracy: 0.8919 - 34s/epoch - 104ms/step\n",
            "Epoch 32/100\n",
            "325/325 - 35s - loss: 0.2216 - accuracy: 0.9071 - val_loss: 0.2735 - val_accuracy: 0.8867 - 35s/epoch - 107ms/step\n"
          ]
        },
        {
          "output_type": "execute_result",
          "data": {
            "text/plain": [
              "<keras.callbacks.History at 0x7fa1a04d6a60>"
            ]
          },
          "metadata": {},
          "execution_count": 91
        }
      ]
    },
    {
      "cell_type": "markdown",
      "metadata": {
        "id": "0omw2XzSHwOo"
      },
      "source": [
        "## Evaluation on test data\n",
        "Evaluate the model on the test data in terms of loss and accuracy."
      ]
    },
    {
      "cell_type": "code",
      "metadata": {
        "id": "4bF3dQA1Hv_R",
        "colab": {
          "base_uri": "https://localhost:8080/"
        },
        "outputId": "62d5c1ed-e743-48c9-f12c-b15e71acdbbb"
      },
      "source": [
        "loss, accuracy = model.evaluate(X_test, y_test)\n",
        "print(\"Test loss:\", loss)\n",
        "print(\"Test accuracy:\", accuracy)"
      ],
      "execution_count": 92,
      "outputs": [
        {
          "output_type": "stream",
          "name": "stdout",
          "text": [
            "109/109 [==============================] - 4s 32ms/step - loss: 0.2840 - accuracy: 0.8737\n",
            "Test loss: 0.284003883600235\n",
            "Test accuracy: 0.873699426651001\n"
          ]
        }
      ]
    },
    {
      "cell_type": "markdown",
      "metadata": {
        "id": "4Y73Q-h5Hz1r"
      },
      "source": [
        "## Confusion matrix\n",
        "Calculate and display the confusion matrix."
      ]
    },
    {
      "cell_type": "code",
      "metadata": {
        "id": "cW8zZi1uJm2B",
        "colab": {
          "base_uri": "https://localhost:8080/",
          "height": 466
        },
        "outputId": "12d21cd7-3911-401b-faa6-09b72d43d2af"
      },
      "source": [
        "from sklearn.metrics import confusion_matrix\n",
        "import seaborn as sns\n",
        "\n",
        "pred = model.predict(X_test) > 0.5\n",
        "cm=confusion_matrix(y_test,pred)\n",
        "sns.heatmap(cm, annot=True, fmt='d', xticklabels=[\"F Scott Fitzgerald\",\"Jane Austen\"], yticklabels=[\"F Scott Fitzgerald\",\"Jane Austen\"])\n",
        "plot.xlabel(\"Predicted Label\")\n",
        "plot.ylabel(\"Actual Label\")\n",
        "plot.show()"
      ],
      "execution_count": 94,
      "outputs": [
        {
          "output_type": "stream",
          "name": "stdout",
          "text": [
            "109/109 [==============================] - 6s 53ms/step\n"
          ]
        },
        {
          "output_type": "display_data",
          "data": {
            "text/plain": [
              "<Figure size 640x480 with 2 Axes>"
            ],
            "image/png": "[encoded data removed]"
          },
          "metadata": {}
        }
      ]
    }
  ]
}